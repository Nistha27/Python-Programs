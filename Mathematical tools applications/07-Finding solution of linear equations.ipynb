{
 "cells": [
  {
   "cell_type": "code",
   "execution_count": 1,
   "id": "a573d039",
   "metadata": {},
   "outputs": [
    {
     "name": "stdout",
     "output_type": "stream",
     "text": [
      "The coefficient Matrix A is: \n"
     ]
    },
    {
     "data": {
      "text/latex": [
       "$\\displaystyle \\left[\\begin{matrix}1 & 2 & -1\\\\2 & 1 & 4\\\\3 & 3 & 4\\end{matrix}\\right]$"
      ],
      "text/plain": [
       "Matrix([\n",
       "[1, 2, -1],\n",
       "[2, 1,  4],\n",
       "[3, 3,  4]])"
      ]
     },
     "metadata": {},
     "output_type": "display_data"
    },
    {
     "name": "stdout",
     "output_type": "stream",
     "text": [
      "Rank of the matrix is 3\n",
      "System has trivial solution\n"
     ]
    }
   ],
   "source": [
    "# Program to Check whether the following system of homogenous linear equation \n",
    "# has non-trivial solution.\n",
    "# x1 + 2x2 − x3 = 0, 2x1 + x2 + 4x3 = 0, 3x1 + 3x2 + 4x3 = 0.\n",
    "from sympy import *\n",
    "A=Matrix([[1,2,-1],[2,1,4],[3,3,4]])\n",
    "ρA=A.rank()\n",
    "n=shape(A)\n",
    "print(\"The coefficient Matrix A is: \")\n",
    "display(A)\n",
    "print(f\"Rank of the matrix is {ρA}\")\n",
    "if ρA==n[1]: \n",
    " print(\"System has trivial solution\")\n",
    "else:\n",
    " print(\"System has non trivial solution\")\n"
   ]
  },
  {
   "cell_type": "code",
   "execution_count": 2,
   "id": "b56bfea3",
   "metadata": {},
   "outputs": [
    {
     "name": "stdout",
     "output_type": "stream",
     "text": [
      "The coefficient Matrix A is: \n"
     ]
    },
    {
     "data": {
      "text/latex": [
       "$\\displaystyle \\left[\\begin{matrix}1 & 2 & -1\\\\2 & 1 & 4\\\\3 & 3 & 4\\end{matrix}\\right]$"
      ],
      "text/plain": [
       "Matrix([\n",
       "[1, 2, -1],\n",
       "[2, 1,  4],\n",
       "[3, 3,  4]])"
      ]
     },
     "metadata": {},
     "output_type": "display_data"
    },
    {
     "name": "stdout",
     "output_type": "stream",
     "text": [
      "The augmented Matrix AB is: \n"
     ]
    },
    {
     "data": {
      "text/latex": [
       "$\\displaystyle \\left[\\begin{matrix}1 & 2 & -1 & 1\\\\2 & 1 & 4 & 2\\\\3 & 3 & 4 & 1\\end{matrix}\\right]$"
      ],
      "text/plain": [
       "Matrix([\n",
       "[1, 2, -1, 1],\n",
       "[2, 1,  4, 2],\n",
       "[3, 3,  4, 1]])"
      ]
     },
     "metadata": {},
     "output_type": "display_data"
    },
    {
     "name": "stdout",
     "output_type": "stream",
     "text": [
      "ρ(A)=3 and ρ(AB)=3\n",
      "System has unique solution\n",
      "{x: 7, y: -4, z: -2}\n"
     ]
    }
   ],
   "source": [
    "# Program to solve non homogeneous linear system if it is consistent\n",
    "# x1 + 2 x2 − x3 = 1, 2 x1 + x2 + 4 x3 = 2, 3 x1 + 3 x2 + 4 x3 = 1.\n",
    "from sympy import *\n",
    "x,y,z=symbols(\"x,y,z\")\n",
    "A=Matrix([[1,2,-1],[2,1,4],[3,3,4]])\n",
    "B=Matrix([[1],[2],[1]])\n",
    "n=shape(A)\n",
    "AB=A.col_insert(n[1],B)\n",
    "ρA=A.rank()\n",
    "ρAB=AB.rank()\n",
    "print(\"The coefficient Matrix A is: \")\n",
    "display(A)\n",
    "print(\"The augmented Matrix AB is: \")\n",
    "display(AB)\n",
    "print(f\"ρ(A)={ρA} and ρ(AB)={ρAB}\")\n",
    "if ρA==ρAB: \n",
    "    if ρA==n[1]:\n",
    "        print(\"System has unique solution\")\n",
    "    else:\n",
    "        print(\"The system has infinitely many solutions\")\n",
    "    print(solve_linear_system(AB,x,y,z)) \n",
    "else:\n",
    "    print(\"The system of equations is inconsistent\")"
   ]
  },
  {
   "cell_type": "code",
   "execution_count": 4,
   "id": "45eac0e9",
   "metadata": {},
   "outputs": [
    {
     "name": "stdout",
     "output_type": "stream",
     "text": [
      "\n",
      "Count\t x\t\t y\t\t z\n",
      "\n",
      "1\t0.85000 \t-1.02750\t1.01087\n",
      "\n",
      "2\t1.00246 \t-0.99983\t0.99978\n",
      "\n",
      "3\t0.99997 \t-1.00001\t1.00000\n",
      "\n",
      "4\t1.00000 \t-1.00000\t1.00000\n",
      "\n",
      "\n",
      " Solution: x=1.00000, y=-1.00000 and z=1.00000\n"
     ]
    }
   ],
   "source": [
    "#Solve the system of equations using Gauss-Seidel method: \n",
    "#20 x + y − 2 z = 17; 3 x + 20 y − z = −18; 2 x − 3 y + 20 z = 25.\n",
    "f1=lambda x,y,z: (17-y+2*z)/20\n",
    "f2=lambda x,y,z: (-18-3*x+z)/20\n",
    "f3=lambda x,y,z: (25-2*x+3*y)/20\n",
    "x0,y0,z0=0,0,0\n",
    "count=1\n",
    "e=0.0001 #the tolerable error\n",
    "print(\"\\nCount\\t x\\t\\t y\\t\\t z\\n\")\n",
    "condition=True\n",
    "while condition:\n",
    "    x1=f1(x0,y0,z0)\n",
    "    y1=f2(x1,y0,z0)\n",
    "    z1=f3(x1,y1,z0)\n",
    "    print(\"%d\\t%.5f \\t%.5f\\t%.5f\\n\"%(count,x1,y1,z1))\n",
    "    count=count+1\n",
    "    e1=abs(x0-x1)\n",
    "    e2=abs(y0-y1)\n",
    "    e3=abs(z0-z1)\n",
    "    x0,y0,z0=x1,y1,z1\n",
    "    condition = e1>=e and e2>=e and e3>=e\n",
    "print(\"\\n Solution: x=%0.5f, y=%0.5f and z=%0.5f\"%(x1,y1,z1))"
   ]
  },
  {
   "cell_type": "code",
   "execution_count": 5,
   "id": "36272811",
   "metadata": {},
   "outputs": [
    {
     "name": "stdout",
     "output_type": "stream",
     "text": [
      "The given matrix A is\n"
     ]
    },
    {
     "data": {
      "text/latex": [
       "$\\displaystyle \\left[\\begin{matrix}4 & 3 & 2\\\\1 & 4 & 1\\\\3 & 10 & 4\\end{matrix}\\right]$"
      ],
      "text/plain": [
       "Matrix([\n",
       "[4,  3, 2],\n",
       "[1,  4, 1],\n",
       "[3, 10, 4]])"
      ]
     },
     "metadata": {},
     "output_type": "display_data"
    },
    {
     "name": "stdout",
     "output_type": "stream",
     "text": [
      "Eigen values: \n",
      " [8.98205672 2.12891771 0.88902557]\n",
      "Eigen values: \n",
      " [[-0.49247712 -0.82039552 -0.42973429]\n",
      " [-0.26523242  0.14250681 -0.14817858]\n",
      " [-0.82892584  0.55375355  0.89071407]]\n"
     ]
    }
   ],
   "source": [
    "#Obtain the eigenvalues and eigenvectors for the given matrix.\n",
    "#A = [[4,3,2],[1,4,1],[3,10,4]]\n",
    "from numpy import *\n",
    "A=[[4,3,2],[1,4,1],[3,10,4]]\n",
    "mat=Matrix(A)\n",
    "print(\"The given matrix A is\")\n",
    "display(mat)\n",
    "eig_val,eig_vec=linalg.eig(array(A))\n",
    "print(\"Eigen values: \\n\",eig_val)\n",
    "print(\"Eigen values: \\n\",eig_vec)"
   ]
  },
  {
   "cell_type": "code",
   "execution_count": 6,
   "id": "2f7547b4",
   "metadata": {},
   "outputs": [
    {
     "name": "stdout",
     "output_type": "stream",
     "text": [
      "\n",
      "The largest Eigenvalue is: 25.0000\n",
      "\n",
      "Corresponding EigenVector is:  [1.   0.04 0.08]\n",
      "\n",
      "The largest Eigenvalue is: 25.2000\n",
      "\n",
      "Corresponding EigenVector is:  [1.         0.04444444 0.06666667]\n",
      "\n",
      "The largest Eigenvalue is: 25.1778\n",
      "\n",
      "Corresponding EigenVector is:  [1.         0.04501324 0.06884378]\n",
      "\n",
      "The largest Eigenvalue is: 25.1827\n",
      "\n",
      "Corresponding EigenVector is:  [1.         0.0450722  0.06848451]\n",
      "\n",
      "The solution is:\n",
      "\n",
      "The largest Eigenvalue is: 25.1820\n",
      "Corresponding EigenVector is:  [1.         0.0450804  0.06854337]\n"
     ]
    }
   ],
   "source": [
    "#Compute the numerically largest eigenvalue of following P by power method\n",
    "# A = [[25,1,2],[1,3,0],[2,0,-4]] take transpose of [1 0 0] as initial \n",
    "#approximation to the eigen vector\n",
    "from numpy import *\n",
    "A=array([[25,1,2],[1,3,0],[2,0,-4]])\n",
    "x=array([1,0,0])\n",
    "λ_i=0\n",
    "while(True):\n",
    "    Y=dot(A,x)\n",
    "    λ=abs(Y).max()\n",
    "    x=Y/λ\n",
    "    if abs(λ-λ_i)<0.001:\n",
    "        break\n",
    "    else:\n",
    "        λ_i=λ\n",
    "        print(\"\\nThe largest Eigenvalue is: %.4f\"%λ_i)\n",
    "        print(\"\\nCorresponding EigenVector is: \",x)\n",
    "print(\"\\nThe solution is:\\n\")\n",
    "print(\"The largest Eigenvalue is: %.4f\"%λ)\n",
    "print(\"Corresponding EigenVector is: \",x)\n"
   ]
  },
  {
   "cell_type": "code",
   "execution_count": null,
   "id": "b695c7d6",
   "metadata": {},
   "outputs": [],
   "source": []
  }
 ],
 "metadata": {
  "kernelspec": {
   "display_name": "Python 3 (ipykernel)",
   "language": "python",
   "name": "python3"
  },
  "language_info": {
   "codemirror_mode": {
    "name": "ipython",
    "version": 3
   },
   "file_extension": ".py",
   "mimetype": "text/x-python",
   "name": "python",
   "nbconvert_exporter": "python",
   "pygments_lexer": "ipython3",
   "version": "3.9.12"
  }
 },
 "nbformat": 4,
 "nbformat_minor": 5
}

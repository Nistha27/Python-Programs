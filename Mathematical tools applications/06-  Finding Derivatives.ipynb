{
 "cells": [
  {
   "cell_type": "code",
   "execution_count": 1,
   "id": "1e29aa66",
   "metadata": {},
   "outputs": [
    {
     "data": {
      "text/latex": [
       "$\\displaystyle - x + \\frac{d}{d x} y{\\left(x \\right)} = 0$"
      ],
      "text/plain": [
       "Eq(-x + Derivative(y(x), x), 0)"
      ]
     },
     "metadata": {},
     "output_type": "display_data"
    },
    {
     "data": {
      "text/latex": [
       "$\\displaystyle y{\\left(x \\right)} = C_{1} + \\frac{x^{2}}{2}$"
      ],
      "text/plain": [
       "Eq(y(x), C1 + x**2/2)"
      ]
     },
     "metadata": {},
     "output_type": "display_data"
    }
   ],
   "source": [
    "#Program to solve dy/dx = x\n",
    "from sympy import *\n",
    "x=Symbol(\"x\")\n",
    "y=Function(\"y\")(x)\n",
    "DE=Derivative(y,x)-x\n",
    "display(Eq(DE,0))\n",
    "GS=dsolve(DE,y)\n",
    "display(GS)"
   ]
  },
  {
   "cell_type": "code",
   "execution_count": 2,
   "id": "8ce7c47b",
   "metadata": {},
   "outputs": [
    {
     "data": {
      "text/latex": [
       "$\\displaystyle - y^{3}{\\left(x \\right)} \\sec{\\left(x \\right)} + y{\\left(x \\right)} \\tan{\\left(x \\right)} + \\frac{d}{d x} y{\\left(x \\right)} = 0$"
      ],
      "text/plain": [
       "Eq(-y(x)**3*sec(x) + y(x)*tan(x) + Derivative(y(x), x), 0)"
      ]
     },
     "metadata": {},
     "output_type": "display_data"
    },
    {
     "data": {
      "text/latex": [
       "$\\displaystyle y{\\left(x \\right)} = - \\sqrt{\\frac{1}{C_{1} - 2 \\sin{\\left(x \\right)}}} \\cos{\\left(x \\right)}$"
      ],
      "text/plain": [
       "Eq(y(x), -sqrt(1/(C1 - 2*sin(x)))*cos(x))"
      ]
     },
     "metadata": {},
     "output_type": "display_data"
    },
    {
     "data": {
      "text/latex": [
       "$\\displaystyle y{\\left(x \\right)} = \\sqrt{\\frac{1}{C_{1} - 2 \\sin{\\left(x \\right)}}} \\cos{\\left(x \\right)}$"
      ],
      "text/plain": [
       "Eq(y(x), sqrt(1/(C1 - 2*sin(x)))*cos(x))"
      ]
     },
     "metadata": {},
     "output_type": "display_data"
    }
   ],
   "source": [
    "#Program to solve dy/dx +y tan(x) - y^3 sec(x)=0\n",
    "from sympy import *\n",
    "x=Symbol(\"x\")\n",
    "y=Function(\"y\")(x)\n",
    "DE=Derivative(y,x)+y*tan(x)-y**3*sec(x)\n",
    "display(Eq(DE,0))\n",
    "GS=dsolve(DE,y)\n",
    "for i in range(len(GS)):\n",
    " display(GS[i])\n"
   ]
  },
  {
   "cell_type": "code",
   "execution_count": 3,
   "id": "4757407b",
   "metadata": {},
   "outputs": [
    {
     "data": {
      "text/latex": [
       "$\\displaystyle x^{3} \\frac{d}{d x} y{\\left(x \\right)} - x^{2} y{\\left(x \\right)} + y^{4}{\\left(x \\right)} \\cos{\\left(x \\right)} = 0$"
      ],
      "text/plain": [
       "Eq(x**3*Derivative(y(x), x) - x**2*y(x) + y(x)**4*cos(x), 0)"
      ]
     },
     "metadata": {},
     "output_type": "display_data"
    },
    {
     "data": {
      "text/latex": [
       "$\\displaystyle y{\\left(x \\right)} = \\sqrt[3]{\\frac{x^{3}}{C_{1} + 3 \\sin{\\left(x \\right)}}}$"
      ],
      "text/plain": [
       "Eq(y(x), (x**3/(C1 + 3*sin(x)))**(1/3))"
      ]
     },
     "metadata": {},
     "output_type": "display_data"
    },
    {
     "data": {
      "text/latex": [
       "$\\displaystyle y{\\left(x \\right)} = \\frac{\\sqrt[3]{\\frac{x^{3}}{C_{1} + 3 \\sin{\\left(x \\right)}}} \\left(-1 - \\sqrt{3} i\\right)}{2}$"
      ],
      "text/plain": [
       "Eq(y(x), (x**3/(C1 + 3*sin(x)))**(1/3)*(-1 - sqrt(3)*I)/2)"
      ]
     },
     "metadata": {},
     "output_type": "display_data"
    },
    {
     "data": {
      "text/latex": [
       "$\\displaystyle y{\\left(x \\right)} = \\frac{\\sqrt[3]{\\frac{x^{3}}{C_{1} + 3 \\sin{\\left(x \\right)}}} \\left(-1 + \\sqrt{3} i\\right)}{2}$"
      ],
      "text/plain": [
       "Eq(y(x), (x**3/(C1 + 3*sin(x)))**(1/3)*(-1 + sqrt(3)*I)/2)"
      ]
     },
     "metadata": {},
     "output_type": "display_data"
    }
   ],
   "source": [
    "#Program to solve x^3 dy/dx - x^2 y + y^4 cos(x)=0\n",
    "from sympy import *\n",
    "x=Symbol(\"x\")\n",
    "y=Function(\"y\")(x)\n",
    "DE=x**3*Derivative(y,x)-x**2*y+y**4*cos(x)\n",
    "display(Eq(DE,0))\n",
    "GS=dsolve(DE,y)\n",
    "for i in range(len(GS)):\n",
    " display(GS[i])"
   ]
  },
  {
   "cell_type": "code",
   "execution_count": 4,
   "id": "13f9ef21",
   "metadata": {},
   "outputs": [
    {
     "data": {
      "text/latex": [
       "$\\displaystyle \\frac{d}{d t} P{\\left(t \\right)} - 3 = 0$"
      ],
      "text/plain": [
       "Eq(Derivative(P(t), t) - 3, 0)"
      ]
     },
     "metadata": {},
     "output_type": "display_data"
    },
    {
     "name": "stdout",
     "output_type": "stream",
     "text": [
      "General solution is: \n"
     ]
    },
    {
     "data": {
      "text/latex": [
       "$\\displaystyle P{\\left(t \\right)} = C_{1} + 3 t$"
      ],
      "text/plain": [
       "Eq(P(t), C1 + 3*t)"
      ]
     },
     "metadata": {},
     "output_type": "display_data"
    },
    {
     "name": "stdout",
     "output_type": "stream",
     "text": [
      "Particular solution is: \n"
     ]
    },
    {
     "data": {
      "text/latex": [
       "$\\displaystyle P{\\left(t \\right)} = 3 t + 2$"
      ],
      "text/plain": [
       "Eq(P(t), 3*t + 2)"
      ]
     },
     "metadata": {},
     "output_type": "display_data"
    },
    {
     "data": {
      "image/png": "[encoded data removed]",
      "text/plain": [
       "<Figure size 432x288 with 1 Axes>"
      ]
     },
     "metadata": {
      "needs_background": "light"
     },
     "output_type": "display_data"
    }
   ],
   "source": [
    "#Program to solve dP/dt = r P(0)=2 and take r = 3 \n",
    "from sympy import *\n",
    "r,t=symbols(\"r,t\")\n",
    "P=Function(\"P\")(t)\n",
    "C1=Symbol(\"C1\")\n",
    "DE=Derivative(P,t)-3\n",
    "display(Eq(DE,0))\n",
    "GS=dsolve(DE,P)\n",
    "print(\"General solution is: \")\n",
    "display(GS)\n",
    "e1=solve(GS.subs({P:2,t:0}),C1)\n",
    "PS=GS.subs({C1:e1[0]})\n",
    "print(\"Particular solution is: \")\n",
    "display(PS)\n",
    "P1=PS.rhs\n",
    "P1=lambdify(t,P1)\n",
    "from pylab import *\n",
    "t=arange(0,10,0.01)\n",
    "plot(t,P1(t))\n",
    "axvline()\n",
    "axhline()\n",
    "grid()\n",
    "show()"
   ]
  },
  {
   "cell_type": "code",
   "execution_count": 5,
   "id": "b17f44fc",
   "metadata": {},
   "outputs": [
    {
     "data": {
      "text/latex": [
       "$\\displaystyle k \\left(θ{\\left(t \\right)} - 25\\right) + \\frac{d}{d t} θ{\\left(t \\right)} = 0$"
      ],
      "text/plain": [
       "Eq(k*(θ(t) - 25) + Derivative(θ(t), t), 0)"
      ]
     },
     "metadata": {},
     "output_type": "display_data"
    },
    {
     "name": "stdout",
     "output_type": "stream",
     "text": [
      "General solution is: \n"
     ]
    },
    {
     "data": {
      "text/latex": [
       "$\\displaystyle θ{\\left(t \\right)} = C_{1} e^{- k t} + 25$"
      ],
      "text/plain": [
       "Eq(θ(t), C1*exp(-k*t) + 25)"
      ]
     },
     "metadata": {},
     "output_type": "display_data"
    },
    {
     "name": "stdout",
     "output_type": "stream",
     "text": [
      "Particular solution is: \n"
     ]
    },
    {
     "data": {
      "text/latex": [
       "$\\displaystyle θ{\\left(t \\right)} = 25 + 75 e^{- k t}$"
      ],
      "text/plain": [
       "Eq(θ(t), 25 + 75*exp(-k*t))"
      ]
     },
     "metadata": {},
     "output_type": "display_data"
    },
    {
     "name": "stdout",
     "output_type": "stream",
     "text": [
      "Particular solution is: \n"
     ]
    },
    {
     "data": {
      "text/latex": [
       "$\\displaystyle θ{\\left(t \\right)} = 25 + 75 e^{- t \\log{\\left(\\frac{11^{\\frac{9}{10}} \\cdot \\sqrt[10]{15}}{11} \\right)}}$"
      ],
      "text/plain": [
       "Eq(θ(t), 25 + 75*exp(-t*log(11**(9/10)*15**(1/10)/11)))"
      ]
     },
     "metadata": {},
     "output_type": "display_data"
    },
    {
     "data": {
      "image/png": "[encoded data removed]",
      "text/plain": [
       "<Figure size 432x288 with 1 Axes>"
      ]
     },
     "metadata": {
      "needs_background": "light"
     },
     "output_type": "display_data"
    }
   ],
   "source": [
    "#Newton' Law of cooling\n",
    "#Program to solve dθ/dt = -k*(θ-θm) with θ(0)=100 and θ(10)=80\n",
    "#take θm = 25 (normally temperature of the surrounding)\n",
    "from sympy import *\n",
    "t=Symbol(\"t\")\n",
    "k=Symbol(\"k\",real=True)\n",
    "θ=Function(\"θ\")(t)\n",
    "C1=Symbol(\"C1\")\n",
    "DE=Derivative(θ,t)+k*(θ-25)\n",
    "display(Eq(DE,0))\n",
    "GS=dsolve(DE,θ)\n",
    "print(\"General solution is: \")\n",
    "display(GS)\n",
    "e1=solve(GS.subs({θ:100,t:0}),C1)\n",
    "PS=GS.subs({C1:e1[0]})\n",
    "print(\"Particular solution is: \")\n",
    "display(PS)\n",
    "e2=solve(PS.subs({θ:80,t:10}),k)\n",
    "PS=PS.subs({k:e2[0]})\n",
    "print(\"Particular solution is: \")\n",
    "display(PS)\n",
    "P1=PS.rhs\n",
    "P1=lambdify(t,P1)\n",
    "from pylab import *\n",
    "t=arange(0,100,0.01)\n",
    "plot(t,P1(t))\n",
    "axvline()\n",
    "axhline()\n",
    "grid()\n",
    "show()"
   ]
  },
  {
   "cell_type": "code",
   "execution_count": 6,
   "id": "ce5f8496",
   "metadata": {},
   "outputs": [
    {
     "name": "stdout",
     "output_type": "stream",
     "text": [
      "Differential Equation is: \n"
     ]
    },
    {
     "data": {
      "text/latex": [
       "$\\displaystyle - k P{\\left(t \\right)} + \\frac{d}{d t} P{\\left(t \\right)} = 0$"
      ],
      "text/plain": [
       "Eq(-k*P(t) + Derivative(P(t), t), 0)"
      ]
     },
     "metadata": {},
     "output_type": "display_data"
    },
    {
     "name": "stdout",
     "output_type": "stream",
     "text": [
      "General Solution is: \n"
     ]
    },
    {
     "data": {
      "text/latex": [
       "$\\displaystyle P{\\left(t \\right)} = C_{1} e^{k t}$"
      ],
      "text/plain": [
       "Eq(P(t), C1*exp(k*t))"
      ]
     },
     "metadata": {},
     "output_type": "display_data"
    },
    {
     "name": "stdout",
     "output_type": "stream",
     "text": [
      "Particular Solution is: \n"
     ]
    },
    {
     "data": {
      "text/latex": [
       "$\\displaystyle P{\\left(t \\right)} = C_{1} e^{0.405465108108164 t}$"
      ],
      "text/plain": [
       "Eq(P(t), C1*exp(0.405465108108164*t))"
      ]
     },
     "metadata": {},
     "output_type": "display_data"
    },
    {
     "data": {
      "image/png": "[encoded data removed]",
      "text/plain": [
       "<Figure size 432x288 with 1 Axes>"
      ]
     },
     "metadata": {
      "needs_background": "light"
     },
     "output_type": "display_data"
    }
   ],
   "source": [
    "#Growth of Virus affected files in a system or Bacteira in a culture test\n",
    "#Consider the following problem\n",
    "# If number of virus affected files in a system is proportional to the number \n",
    "#of virus affected files P(t) at time t. Determine the number of virus affected\n",
    "#files at time t, if the number virus affected files in the system is P0 \n",
    "#to begin with and after t=1 hour the number virus affected files found \n",
    "#to be (3/2)P0. Assume P0=20\n",
    "# OR\n",
    "# If the rate of growth of bacteria is proportional to the number of bacteria P(t)\n",
    "#present at time t.Determine the number of bacteria at time t, if culture \n",
    "#initially has P0 number of bacteria and afetr t=1 hour\n",
    "#the number of bacteria measured to be (3/2)P0. Assume P0=20\n",
    "#Following is the Mathematical model for the above situation\n",
    "# Program to Solve : dP(t)/dt = k P given P(0)=P0 and P(1)=(3/2)P0; take P0=20\n",
    "from sympy import *\n",
    "t,k=symbols(\"t,k\") #define symbols in equation\n",
    "P=Function(\"P\")(t) # Say P is function of t\n",
    "C1=Symbol(\"C1\") # define symbol C1, arbitrary constant of solution\n",
    "DE=Derivative(P,t)-k*P #take everything to LHS define LHS of differential equatio\n",
    "print(\"Differential Equation is: \")\n",
    "display(Eq(DE,0))\n",
    "GS=dsolve(Eq(DE,0),P) #dsolve is used to solve and Eq(LHS) is same as Eq(LHS,0)\n",
    "print(\"General Solution is: \")\n",
    "display(GS)\n",
    "e=solve(GS.subs({P:(3/2)*C1,t:1}),k) # find C1 at t=0 and P=2\n",
    "PS=GS.subs({k:e[0]}) #using C1 value write the particular solution\n",
    "print(\"Particular Solution is: \")\n",
    "display(PS)\n",
    "eq=PS.rhs.subs(C1,20)\n",
    "y1=lambdify(t,eq)\n",
    "from pylab import *\n",
    "t=linspace(0,10,100)\n",
    "plot(t,y1(t))\n",
    "axvline()\n",
    "axhline()\n",
    "grid()\n",
    "show()"
   ]
  },
  {
   "cell_type": "code",
   "execution_count": null,
   "id": "cd16254c",
   "metadata": {},
   "outputs": [],
   "source": []
  }
 ],
 "metadata": {
  "kernelspec": {
   "display_name": "Python 3 (ipykernel)",
   "language": "python",
   "name": "python3"
  },
  "language_info": {
   "codemirror_mode": {
    "name": "ipython",
    "version": 3
   },
   "file_extension": ".py",
   "mimetype": "text/x-python",
   "name": "python",
   "nbconvert_exporter": "python",
   "pygments_lexer": "ipython3",
   "version": "3.9.12"
  }
 },
 "nbformat": 4,
 "nbformat_minor": 5
}

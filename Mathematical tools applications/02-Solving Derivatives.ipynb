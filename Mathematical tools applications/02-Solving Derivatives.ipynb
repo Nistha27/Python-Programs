{
 "cells": [
  {
   "cell_type": "code",
   "execution_count": 1,
   "id": "ed3853b5",
   "metadata": {},
   "outputs": [
    {
     "name": "stdout",
     "output_type": "stream",
     "text": [
      "ux=\n"
     ]
    },
    {
     "data": {
      "text/latex": [
       "$\\displaystyle \\left(x \\cos{\\left(y \\right)} - y \\sin{\\left(y \\right)} + \\cos{\\left(y \\right)}\\right) e^{x}$"
      ],
      "text/plain": [
       "(x*cos(y) - y*sin(y) + cos(y))*exp(x)"
      ]
     },
     "metadata": {},
     "output_type": "display_data"
    },
    {
     "name": "stdout",
     "output_type": "stream",
     "text": [
      "uy=\n"
     ]
    },
    {
     "data": {
      "text/latex": [
       "$\\displaystyle - \\left(x \\sin{\\left(y \\right)} + y \\cos{\\left(y \\right)} + \\sin{\\left(y \\right)}\\right) e^{x}$"
      ],
      "text/plain": [
       "-(x*sin(y) + y*cos(y) + sin(y))*exp(x)"
      ]
     },
     "metadata": {},
     "output_type": "display_data"
    },
    {
     "name": "stdout",
     "output_type": "stream",
     "text": [
      "uxx=\n"
     ]
    },
    {
     "data": {
      "text/latex": [
       "$\\displaystyle \\left(x \\cos{\\left(y \\right)} - y \\sin{\\left(y \\right)} + 2 \\cos{\\left(y \\right)}\\right) e^{x}$"
      ],
      "text/plain": [
       "(x*cos(y) - y*sin(y) + 2*cos(y))*exp(x)"
      ]
     },
     "metadata": {},
     "output_type": "display_data"
    },
    {
     "name": "stdout",
     "output_type": "stream",
     "text": [
      "uyy=\n"
     ]
    },
    {
     "data": {
      "text/latex": [
       "$\\displaystyle \\left(- x \\cos{\\left(y \\right)} + y \\sin{\\left(y \\right)} - 2 \\cos{\\left(y \\right)}\\right) e^{x}$"
      ],
      "text/plain": [
       "(-x*cos(y) + y*sin(y) - 2*cos(y))*exp(x)"
      ]
     },
     "metadata": {},
     "output_type": "display_data"
    },
    {
     "name": "stdout",
     "output_type": "stream",
     "text": [
      "uxy=\n"
     ]
    },
    {
     "data": {
      "text/latex": [
       "$\\displaystyle - \\left(x \\sin{\\left(y \\right)} + y \\cos{\\left(y \\right)} + 2 \\sin{\\left(y \\right)}\\right) e^{x}$"
      ],
      "text/plain": [
       "-(x*sin(y) + y*cos(y) + 2*sin(y))*exp(x)"
      ]
     },
     "metadata": {},
     "output_type": "display_data"
    },
    {
     "name": "stdout",
     "output_type": "stream",
     "text": [
      "uyx=\n"
     ]
    },
    {
     "data": {
      "text/latex": [
       "$\\displaystyle - \\left(x \\sin{\\left(y \\right)} + y \\cos{\\left(y \\right)} + 2 \\sin{\\left(y \\right)}\\right) e^{x}$"
      ],
      "text/plain": [
       "-(x*sin(y) + y*cos(y) + 2*sin(y))*exp(x)"
      ]
     },
     "metadata": {},
     "output_type": "display_data"
    },
    {
     "name": "stdout",
     "output_type": "stream",
     "text": [
      "From above derivatives we can notice that uxy=uyx\n"
     ]
    }
   ],
   "source": [
    "#program to find first and second order partial derivatives of \n",
    "#u=exp(x) (x cosy - y siny)\n",
    "from sympy import *\n",
    "x, y =symbols(\"x,y\")\n",
    "u=exp(x)*(x*cos(y)-y*sin(y))\n",
    "ux=simplify(diff(u,x)) \n",
    "print(\"ux=\")\n",
    "display(ux)\n",
    "uy=simplify(diff(u,y))\n",
    "print(\"uy=\")\n",
    "display(uy)\n",
    "uxx=simplify(diff(ux,x)) #diff(u,x,x) or diff(u,x,2)\n",
    "print(\"uxx=\")\n",
    "display(uxx)\n",
    "uyy=simplify(diff(uy,y)) #diff(u,y,y)\n",
    "print(\"uyy=\")\n",
    "display(uyy)\n",
    "uxy=simplify(diff(ux,y)) #diff(u,x,y)\n",
    "print(\"uxy=\")\n",
    "display(uxy)\n",
    "uyx=simplify(diff(uy,x)) #diff(u,y,x)\n",
    "print(\"uyx=\")\n",
    "display(uyx)\n",
    "print(\"From above derivatives we can notice that uxy=uyx\")"
   ]
  },
  {
   "cell_type": "code",
   "execution_count": 2,
   "id": "c6a8dd12",
   "metadata": {},
   "outputs": [
    {
     "name": "stdout",
     "output_type": "stream",
     "text": [
      "Ux=\n"
     ]
    },
    {
     "data": {
      "text/latex": [
       "$\\displaystyle \\frac{3 \\left(x^{2} - y z\\right)}{x^{3} - 3 x y z + y^{3} + z^{3}}$"
      ],
      "text/plain": [
       "3*(x**2 - y*z)/(x**3 - 3*x*y*z + y**3 + z**3)"
      ]
     },
     "metadata": {},
     "output_type": "display_data"
    },
    {
     "name": "stdout",
     "output_type": "stream",
     "text": [
      "Uy=\n"
     ]
    },
    {
     "data": {
      "text/latex": [
       "$\\displaystyle \\frac{3 \\left(- x z + y^{2}\\right)}{x^{3} - 3 x y z + y^{3} + z^{3}}$"
      ],
      "text/plain": [
       "3*(-x*z + y**2)/(x**3 - 3*x*y*z + y**3 + z**3)"
      ]
     },
     "metadata": {},
     "output_type": "display_data"
    },
    {
     "name": "stdout",
     "output_type": "stream",
     "text": [
      "Uz=\n"
     ]
    },
    {
     "data": {
      "text/latex": [
       "$\\displaystyle \\frac{3 \\left(- x y + z^{2}\\right)}{x^{3} - 3 x y z + y^{3} + z^{3}}$"
      ],
      "text/plain": [
       "3*(-x*y + z**2)/(x**3 - 3*x*y*z + y**3 + z**3)"
      ]
     },
     "metadata": {},
     "output_type": "display_data"
    },
    {
     "name": "stdout",
     "output_type": "stream",
     "text": [
      "Ux+Uy+Uz=\n"
     ]
    },
    {
     "data": {
      "text/latex": [
       "$\\displaystyle \\frac{3}{x + y + z}$"
      ],
      "text/plain": [
       "3/(x + y + z)"
      ]
     },
     "metadata": {},
     "output_type": "display_data"
    }
   ],
   "source": [
    "#program to show that Ux+Uy+Uz=3/(x+y+z), if U=log(x^3+y^3+z^3-3xyz)\n",
    "from sympy import *\n",
    "x, y, z =symbols(\"x,y,z\")\n",
    "U=log(x**3+y**3+z**3-3*x*y*z)\n",
    "Ux=simplify(diff(U,x)) \n",
    "print(\"Ux=\")\n",
    "display(Ux)\n",
    "Uy=simplify(diff(U,y))\n",
    "print(\"Uy=\")\n",
    "display(Uy)\n",
    "Uz=simplify(diff(U,z)) \n",
    "print(\"Uz=\")\n",
    "display(Uz)\n",
    "print(\"Ux+Uy+Uz=\")\n",
    "display(simplify(Ux+Uy+Uz))\n"
   ]
  },
  {
   "cell_type": "code",
   "execution_count": 3,
   "id": "32c641eb",
   "metadata": {},
   "outputs": [
    {
     "data": {
      "text/latex": [
       "$\\displaystyle \\frac{\\partial^{2}}{\\partial x^{2}} \\frac{A e^{- \\frac{x^{2}}{4 a^{2} t}}}{t^{0.5}} = \\frac{A \\left(- 2 a^{2} t + x^{2}\\right) e^{- \\frac{x^{2}}{4 a^{2} t}}}{4 a^{4} t^{2.5}}$"
      ],
      "text/plain": [
       "Eq(Derivative(A*exp(-x**2/(4*a**2*t))/t**0.5, (x, 2)), A*(-2*a**2*t + x**2)*exp(-x**2/(4*a**2*t))/(4*a**4*t**2.5))"
      ]
     },
     "metadata": {},
     "output_type": "display_data"
    },
    {
     "name": "stdout",
     "output_type": "stream",
     "text": [
      "Ut=\n"
     ]
    },
    {
     "data": {
      "text/latex": [
       "$\\displaystyle \\frac{A \\left(- 2.0 a^{2} t^{2.5} + t^{1.5} x^{2}\\right) e^{- \\frac{x^{2}}{4 a^{2} t}}}{4 a^{2} t^{4.0}}$"
      ],
      "text/plain": [
       "A*(-2.0*a**2*t**2.5 + t**1.5*x**2)*exp(-x**2/(4*a**2*t))/(4*a**2*t**4.0)"
      ]
     },
     "metadata": {},
     "output_type": "display_data"
    },
    {
     "name": "stdout",
     "output_type": "stream",
     "text": [
      "a^2 Uxx-Ut=\n"
     ]
    },
    {
     "data": {
      "text/latex": [
       "$\\displaystyle 0$"
      ],
      "text/plain": [
       "0"
      ]
     },
     "metadata": {},
     "output_type": "display_data"
    }
   ],
   "source": [
    "#program to show a^2 Uxx - Ut = 0, if U=A t^(-1/2) exp(-x^2/(4 a^2 t))\n",
    "from sympy import *\n",
    "A, a, t, x = symbols(\"A,a,t,x\")\n",
    "U=A*t**(-1/2)*exp(-x**2/(4*a**2*t))\n",
    "Uxx=simplify(diff(U,x,x)) \n",
    "#print(\"Ux=\")\n",
    "display(Eq(Derivative(U,x,2),Uxx))\n",
    "Ut=simplify(diff(U,t))\n",
    "print(\"Ut=\")\n",
    "display(Ut)\n",
    "print(\"a^2 Uxx-Ut=\")\n",
    "display(simplify(a**2*Uxx-Ut))\n"
   ]
  },
  {
   "cell_type": "code",
   "execution_count": 4,
   "id": "b3f35bd5",
   "metadata": {},
   "outputs": [
    {
     "data": {
      "text/latex": [
       "$\\displaystyle \\left|{\\left[\\begin{matrix}\\frac{y}{z} & \\frac{x}{z} & - \\frac{x y}{z^{2}}\\\\- \\frac{y z}{x^{2}} & \\frac{z}{x} & \\frac{y}{x}\\\\\\frac{z}{y} & - \\frac{x z}{y^{2}} & \\frac{x}{y}\\end{matrix}\\right]}\\right| = 4$"
      ],
      "text/plain": [
       "Eq(Determinant(Matrix([\n",
       "[      y/z,       x/z, -x*y/z**2],\n",
       "[-y*z/x**2,       z/x,       y/x],\n",
       "[      z/y, -x*z/y**2,       x/y]])), 4)"
      ]
     },
     "metadata": {},
     "output_type": "display_data"
    }
   ],
   "source": [
    "#Program to find the jacobian,\n",
    "#if U=x y / z, V = y z / x and W = z x / y\n",
    "from sympy import *\n",
    "x, y, z =symbols(\"x,y,z\")\n",
    "U=x*y/z\n",
    "V=y*z/x\n",
    "W=z*x/y\n",
    "Ux=simplify(diff(U,x)) \n",
    "Uy=simplify(diff(U,y))\n",
    "Uz=simplify(diff(U,z)) \n",
    "Vx=simplify(diff(V,x)) \n",
    "Vy=simplify(diff(V,y))\n",
    "Vz=simplify(diff(V,z))\n",
    "Wx=simplify(diff(W,x)) \n",
    "Wy=simplify(diff(W,y))\n",
    "Wz=simplify(diff(W,z)) \n",
    "List=[[Ux,Uy,Uz],[Vx,Vy,Vz],[Wx,Wy,Wz]]\n",
    "M=Matrix(List)\n",
    "J=simplify(det(M))\n",
    "display(Eq(Determinant(M),J))"
   ]
  },
  {
   "cell_type": "code",
   "execution_count": 5,
   "id": "a27c2d7e",
   "metadata": {},
   "outputs": [
    {
     "data": {
      "text/latex": [
       "$\\displaystyle \\left|{\\left[\\begin{matrix}\\sin{\\left(θ \\right)} \\cos{\\left(ϕ \\right)} & - ρ \\sin{\\left(θ \\right)} \\sin{\\left(ϕ \\right)} & ρ \\cos{\\left(θ \\right)} \\cos{\\left(ϕ \\right)}\\\\\\cos{\\left(θ \\right)} \\cos{\\left(ϕ \\right)} & - ρ \\sin{\\left(ϕ \\right)} \\cos{\\left(θ \\right)} & - ρ \\sin{\\left(θ \\right)} \\cos{\\left(ϕ \\right)}\\\\\\sin{\\left(ϕ \\right)} & ρ \\cos{\\left(ϕ \\right)} & 0\\end{matrix}\\right]}\\right| = ρ^{2} \\cos{\\left(ϕ \\right)}$"
      ],
      "text/plain": [
       "Eq(Determinant(Matrix([\n",
       "[sin(θ)*cos(ϕ), -ρ*sin(θ)*sin(ϕ),  ρ*cos(θ)*cos(ϕ)],\n",
       "[cos(θ)*cos(ϕ), -ρ*sin(ϕ)*cos(θ), -ρ*sin(θ)*cos(ϕ)],\n",
       "[       sin(ϕ),         ρ*cos(ϕ),                0]])), ρ**2*cos(ϕ))"
      ]
     },
     "metadata": {},
     "output_type": "display_data"
    }
   ],
   "source": [
    "#Program to find the jacobian,\n",
    "#if u=ρ cos(ϕ) sin(θ) v=ρ cos(ϕ) cos(θ) w=ρ sin(ϕ)\n",
    "from sympy import *\n",
    "ρ, ϕ, θ =symbols(\"ρ,ϕ,θ\")\n",
    "U=ρ*cos(ϕ)*sin(θ)\n",
    "V=ρ*cos(ϕ)*cos(θ)\n",
    "W=ρ*sin(ϕ)\n",
    "Uρ=simplify(diff(U,ρ)) \n",
    "Uϕ=simplify(diff(U,ϕ))\n",
    "Uθ=simplify(diff(U,θ)) \n",
    "Vρ=simplify(diff(V,ρ)) \n",
    "Vϕ=simplify(diff(V,ϕ))\n",
    "Vθ=simplify(diff(V,θ))\n",
    "Wρ=simplify(diff(W,ρ)) \n",
    "Wϕ=simplify(diff(W,ϕ))\n",
    "Wθ=simplify(diff(W,θ)) \n",
    "List=[[Uρ,Uϕ,Uθ],[Vρ,Vϕ,Vθ],[Wρ,Wϕ,Wθ]]\n",
    "M=Matrix(List)\n",
    "J=simplify(det(M))\n",
    "display(Eq(Determinant(M),J))"
   ]
  }
 ],
 "metadata": {
  "kernelspec": {
   "display_name": "Python 3 (ipykernel)",
   "language": "python",
   "name": "python3"
  },
  "language_info": {
   "codemirror_mode": {
    "name": "ipython",
    "version": 3
   },
   "file_extension": ".py",
   "mimetype": "text/x-python",
   "name": "python",
   "nbconvert_exporter": "python",
   "pygments_lexer": "ipython3",
   "version": "3.9.12"
  }
 },
 "nbformat": 4,
 "nbformat_minor": 5
}

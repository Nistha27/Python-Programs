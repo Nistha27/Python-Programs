{
 "cells": [
  {
   "cell_type": "code",
   "execution_count": 1,
   "id": "68698bd4",
   "metadata": {},
   "outputs": [
    {
     "name": "stdout",
     "output_type": "stream",
     "text": [
      "The point of intersection is [-acos(1/9) + 2*pi, acos(1/9)]\n",
      "Angle between the curves is 1.57 radians or 90.00 degree\n"
     ]
    }
   ],
   "source": [
    "#Program to find angle between two polar curves r=4(1+cos(t)) and\n",
    "#r=5(1-cos(t))\n",
    "from sympy import *\n",
    "t=Symbol('t')\n",
    "r1=4*(1+cos(t))\n",
    "r2=5*(1-cos(t))\n",
    "dr1=diff(r1,t)\n",
    "dr2=diff(r2,t)\n",
    "r1dr1=r1/dr1\n",
    "r2dr2=r2/dr2\n",
    "θ=solve(r1-r2,t)\n",
    "print(\"The point of intersection is\",θ)\n",
    "r1dr1=r1dr1.subs({t:θ[1]})\n",
    "r2dr2=r2dr2.subs({t:θ[1]})\n",
    "p1=atan(r1dr1)\n",
    "p2=atan(r2dr2)\n",
    "p=abs(p1-p2)\n",
    "print(\"Angle between the curves is %.2f\"%p,\"radians or %.2f\"%deg(p),\"degree\")\n"
   ]
  },
  {
   "cell_type": "code",
   "execution_count": 2,
   "id": "3495d09c",
   "metadata": {},
   "outputs": [
    {
     "name": "stdout",
     "output_type": "stream",
     "text": [
      "The point of intersection is [atan(4/5)]\n",
      "Angle between curves is: 1.57 radians or 90.00 degree\n"
     ]
    }
   ],
   "source": [
    "#Find the angle between the curves r = 4 cost and r = 5 sin t.\n",
    "from sympy import *\n",
    "t=Symbol('t')\n",
    "r1=4*(cos(t))\n",
    "r2=5*(sin(t)) \n",
    "dr1=diff(r1,t)\n",
    "dr2=diff(r2,t)\n",
    "t1=r1/dr1\n",
    "t2=r2/dr2\n",
    "θ=solve(r1-r2,t)\n",
    "print(\"The point of intersection is\",θ)\n",
    "w1=t1.subs({t:float(θ[0])})\n",
    "w2=t2.subs({t:float(θ[0])})\n",
    "y1=atan(w1)\n",
    "y2=atan(w2)\n",
    "w=abs(y1-y2)\n",
    "print(f'Angle between curves is: %0.2f'%(w),\"radians or %0.2f\"%deg(w),\"degree\")"
   ]
  },
  {
   "cell_type": "code",
   "execution_count": 5,
   "id": "08a516e1",
   "metadata": {},
   "outputs": [
    {
     "name": "stdout",
     "output_type": "stream",
     "text": [
      "ρ=\n"
     ]
    },
    {
     "data": {
      "text/latex": [
       "$\\displaystyle \\frac{\\left(\\left(4 \\cos{\\left(t \\right)} + 4\\right)^{2} + 16 \\sin^{2}{\\left(t \\right)}\\right)^{1.5}}{\\left(4 \\cos{\\left(t \\right)} + 4\\right)^{2} + 4 \\cdot \\left(4 \\cos{\\left(t \\right)} + 4\\right) \\cos{\\left(t \\right)} + 32 \\sin^{2}{\\left(t \\right)}}$"
      ],
      "text/plain": [
       "((4*cos(t) + 4)**2 + 16*sin(t)**2)**1.5/((4*cos(t) + 4)**2 + 4*(4*cos(t) + 4)*cos(t) + 32*sin(t)**2)"
      ]
     },
     "metadata": {},
     "output_type": "display_data"
    },
    {
     "name": "stdout",
     "output_type": "stream",
     "text": [
      "radius of curvatre at t=pi/2 is 3.77 units\n",
      "curvatre at t=pi/2 is 0.27 units\n"
     ]
    }
   ],
   "source": [
    "#program to find the radius of curvature in polar form \n",
    "#curve is r=4(1+cos(t)) at the point t=pi/2\n",
    "from sympy import *\n",
    "t=Symbol(\"t\")\n",
    "r=4*(1+cos(t))\n",
    "r1=diff(r,t)\n",
    "r2=diff(r1,t)\n",
    "ρ=(r**2+r1**2)**(3/2)/(r**2+2*r1**2-r*r2)\n",
    "print(\"ρ=\")\n",
    "display(ρ)\n",
    "ρ=ρ.subs({t:pi/2})\n",
    "print(\"radius of curvatre at t=pi/2 is %2.2f\"%ρ,\"units\")\n",
    "print(\"curvatre at t=pi/2 is %2.2f\"%(1/ρ),\"units\")\n"
   ]
  },
  {
   "cell_type": "code",
   "execution_count": 6,
   "id": "0bd5b839",
   "metadata": {},
   "outputs": [
    {
     "name": "stdout",
     "output_type": "stream",
     "text": [
      "ρ=\n"
     ]
    },
    {
     "data": {
      "text/latex": [
       "$\\displaystyle \\frac{\\left(a^{2} n^{2} \\cos^{2}{\\left(n t \\right)} + a^{2} \\sin^{2}{\\left(n t \\right)}\\right)^{1.5}}{a^{2} n^{2} \\sin^{2}{\\left(n t \\right)} + 2 a^{2} n^{2} \\cos^{2}{\\left(n t \\right)} + a^{2} \\sin^{2}{\\left(n t \\right)}}$"
      ],
      "text/plain": [
       "(a**2*n**2*cos(n*t)**2 + a**2*sin(n*t)**2)**1.5/(a**2*n**2*sin(n*t)**2 + 2*a**2*n**2*cos(n*t)**2 + a**2*sin(n*t)**2)"
      ]
     },
     "metadata": {},
     "output_type": "display_data"
    },
    {
     "name": "stdout",
     "output_type": "stream",
     "text": [
      "radius of curvatre at t=pi/2 is\n"
     ]
    },
    {
     "data": {
      "text/latex": [
       "$\\displaystyle \\frac{\\left(a^{2}\\right)^{1.5}}{2 a^{2}}$"
      ],
      "text/plain": [
       "(a**2)**1.5/(2*a**2)"
      ]
     },
     "metadata": {},
     "output_type": "display_data"
    },
    {
     "name": "stdout",
     "output_type": "stream",
     "text": [
      "curvatre at t=pi/2 is \n"
     ]
    },
    {
     "data": {
      "text/latex": [
       "$\\displaystyle \\frac{2 a^{2}}{\\left(a^{2}\\right)^{1.5}}$"
      ],
      "text/plain": [
       "2*a**2/(a**2)**1.5"
      ]
     },
     "metadata": {},
     "output_type": "display_data"
    }
   ],
   "source": [
    "#program to find the radius of curvature in polar form\n",
    "# curve is r=a sin(nt) at the point t=pi/2 and n=1\n",
    "from sympy import *\n",
    "a,n,t=symbols(\"a,n,t\")\n",
    "r=a*sin(n*t)\n",
    "r1=diff(r,t)\n",
    "r2=diff(r1,t)\n",
    "ρ=(r**2+r1**2)**(3/2)/(r**2+2*r1**2-r*r2)\n",
    "print(\"ρ=\")\n",
    "display(ρ)\n",
    "ρ=ρ.subs({t:pi/2,n:1})\n",
    "print(\"radius of curvatre at t=pi/2 is\")\n",
    "display(ρ)\n",
    "print(\"curvatre at t=pi/2 is \")\n",
    "display(1/ρ)"
   ]
  },
  {
   "cell_type": "code",
   "execution_count": 7,
   "id": "35061690",
   "metadata": {},
   "outputs": [
    {
     "name": "stdout",
     "output_type": "stream",
     "text": [
      "Radius of curvature is \n"
     ]
    },
    {
     "data": {
      "text/latex": [
       "$\\displaystyle - \\left(a^{2} \\sin^{2}{\\left(t \\right)} + a^{2} \\cos^{2}{\\left(t \\right)}\\right)^{0.5}$"
      ],
      "text/plain": [
       "-(a**2*sin(t)**2 + a**2*cos(t)**2)**0.5"
      ]
     },
     "metadata": {},
     "output_type": "display_data"
    },
    {
     "name": "stdout",
     "output_type": "stream",
     "text": [
      "\n",
      "\n",
      "Radius of curvature at a and t -5.00\n",
      "\n",
      "\n",
      " Curvature at (a,t) is  -0.2\n"
     ]
    }
   ],
   "source": [
    "#Find radius of curvature in parametric form for x = acos(t), y = asin(t) \n",
    "#with a=5 at t=pi/2\n",
    "from sympy import *\n",
    "t,a=symbols(\"t,a\") # define all symbols required\n",
    "y=a*sin(t) # input the parametric equation\n",
    "x=a*cos(t)\n",
    "y1=diff(y,t)\n",
    "y2=diff(y1,t)\n",
    "x1=diff(x,t)\n",
    "x2=diff(x1,t)\n",
    "rho=(x1**2+y1**2)**(3/2)/(y1*x2-x1*y2)\n",
    "print('Radius of curvature is ')\n",
    "display(ratsimp(rho))\n",
    "rho=rho.subs({t:pi/2,a:5})\n",
    "print('\\n\\nRadius of curvature at a and t %.2f'%simplify(rho))\n",
    "curvature=1/rho\n",
    "print (f'\\n\\n Curvature at ({a},{t}) is ',float(curvature))"
   ]
  }
 ],
 "metadata": {
  "kernelspec": {
   "display_name": "Python 3 (ipykernel)",
   "language": "python",
   "name": "python3"
  },
  "language_info": {
   "codemirror_mode": {
    "name": "ipython",
    "version": 3
   },
   "file_extension": ".py",
   "mimetype": "text/x-python",
   "name": "python",
   "nbconvert_exporter": "python",
   "pygments_lexer": "ipython3",
   "version": "3.9.12"
  }
 },
 "nbformat": 4,
 "nbformat_minor": 5
}

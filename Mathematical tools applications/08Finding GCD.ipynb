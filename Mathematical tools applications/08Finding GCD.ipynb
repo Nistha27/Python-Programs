{
 "cells": [
  {
   "cell_type": "code",
   "execution_count": 1,
   "id": "ebf854a5",
   "metadata": {},
   "outputs": [
    {
     "name": "stdout",
     "output_type": "stream",
     "text": [
      "Enter first positive integer: 5\n",
      "Enter second positive integer: 2\n",
      "Given integers are: 5 2\n",
      "Divisor\tremainder\n",
      "2 \t 1\n",
      "1 \t 0\n",
      "GCD(5, 2)= 1\n"
     ]
    }
   ],
   "source": [
    "#Program to find GCD of two integers using Euclid's Algorithm\n",
    "def gcd(a,b):\n",
    "    rem=1\n",
    "    if a<b:\n",
    "        temp=a\n",
    "        a=b\n",
    "        b=temp\n",
    "    print(\"Given integers are:\",a,b)\n",
    "    print(\"Divisor\\tremainder\")\n",
    "    while rem>0:\n",
    "        rem=a%b #remainder when a divides b\n",
    "        print(b,\"\\t\",rem)\n",
    "        a=b\n",
    "        b=rem\n",
    "    return a\n",
    "a=int(input(\"Enter first positive integer: \"))\n",
    "b=int(input(\"Enter second positive integer: \"))\n",
    "print(f\"GCD{a,b}=\",gcd(a,b))"
   ]
  },
  {
   "cell_type": "code",
   "execution_count": 13,
   "id": "3273f538",
   "metadata": {},
   "outputs": [
    {
     "name": "stdout",
     "output_type": "stream",
     "text": [
      "Enter first positive integer: 8\n",
      "Enter second positive integer: 9\n",
      "Given integers are: 9 8\n",
      "Divisor\tremainder\n",
      "8 \t 1\n",
      "1 \t 0\n",
      "GCD(8, 9)= 1\n",
      "8 and 9 are relatively prime\n"
     ]
    }
   ],
   "source": [
    "#Program to determine whether given two integers are relatively prime\n",
    "# If GCD(a,b)=1, then integers a and b are called relatively prime numbers \n",
    "def gcd(a,b):\n",
    "    rem=1\n",
    "    if a<b:\n",
    "        temp=a\n",
    "        a=b\n",
    "        b=temp\n",
    "    print(\"Given integers are:\",a,b)\n",
    "    print(\"Divisor\\tremainder\")\n",
    "    while rem>0:\n",
    "        rem=a%b #remainder when a divides b\n",
    "        print(b,\"\\t\",rem)\n",
    "        a=b\n",
    "        b=rem\n",
    "    return a\n",
    "\n",
    "a=int(input(\"Enter first positive integer: \"))\n",
    "b=int(input(\"Enter second positive integer: \"))\n",
    "GCD=gcd(a,b)\n",
    "print(f\"GCD{a,b}=\",GCD)\n",
    "if GCD==1:\n",
    "    print(f\"{a} and {b} are relatively prime\")\n",
    "else:\n",
    "    print(f\"{a} and {b} are not relatively prime\")\n"
   ]
  },
  {
   "cell_type": "code",
   "execution_count": 12,
   "id": "33c83363",
   "metadata": {},
   "outputs": [
    {
     "name": "stdout",
     "output_type": "stream",
     "text": [
      "Enter first positive integer: 5\n",
      "Enter second positive integer: 2\n",
      "Given integers are: 5 2\n",
      "Divisor\tremainder\n",
      "2 \t 1\n",
      "1 \t 0\n",
      "GCD(5, 2)= 1\n",
      "5 and 2 are relatively prime\n"
     ]
    }
   ],
   "source": [
    "#Program to determine whether given two integers are relatively prime\n",
    "# If GCD(a,b)=1, then integers a and b are called relatively prime numbers \n",
    "def gcd(a,b):\n",
    "    rem=1\n",
    "    if a<b:\n",
    "        temp=a\n",
    "        a=b\n",
    "        b=temp\n",
    "    print(\"Given integers are:\",a,b)\n",
    "    print(\"Divisor\\tremainder\")\n",
    "    while rem>0:\n",
    "        rem=a%b #remainder when a divides b\n",
    "        print(b,\"\\t\",rem)\n",
    "        a=b\n",
    "        b=rem\n",
    "    return a\n",
    "\n",
    "a=int(input(\"Enter first positive integer: \"))\n",
    "b=int(input(\"Enter second positive integer: \"))\n",
    "GCD=gcd(a,b)\n",
    "print(f\"GCD{a,b}=\",GCD)\n",
    "if GCD==1:\n",
    "    print(f\"{a} and {b} are relatively prime\")\n",
    "else:\n",
    "    print(f\"{a} and {b} are not relatively prime\")\n"
   ]
  },
  {
   "cell_type": "code",
   "execution_count": 11,
   "id": "b98d1ec5",
   "metadata": {},
   "outputs": [
    {
     "name": "stdout",
     "output_type": "stream",
     "text": [
      "Enter first integer5\n",
      "Enter second integer9\n",
      "GCD(9, 5) = 1\n",
      "9 x -1 + 5 x 2 = 1\n"
     ]
    }
   ],
   "source": [
    "#Calculate GCD(a,b) and express it as linear combination of a and b \n",
    "#using Euclid's algorithm\n",
    "#\n",
    "a=int(input(\"Enter first integer\"))\n",
    "b=int(input(\"Enter second integer\"))\n",
    "if a<b: # interchange if b is bigger\n",
    "    temp=a\n",
    "    a=b\n",
    "    b=temp\n",
    "r1=a\n",
    "r2=b\n",
    "r3=r1%r2\n",
    "q=(r1-r3)/r2\n",
    "x1=1\n",
    "x2=0\n",
    "x3=x1-x2*q\n",
    "y1=0\n",
    "y2=1\n",
    "y3=y1-y2*q\n",
    "\n",
    "while r3!=0:\n",
    "    r1=r2\n",
    "    r2=r3\n",
    "    r3=r1%r2\n",
    "    q=(r1-r3)/r2\n",
    "    x1=x2\n",
    "    x2=x3\n",
    "    x3=x1-x2*q\n",
    "    y1=y2\n",
    "    y2=y3\n",
    "    y3=y1-y2*q\n",
    "    \n",
    "print(f\"GCD{a,b} =\",r2)\n",
    "print(\"%d x %d + %d x %d = %d\"%(a,x2,b,y2,r2))"
   ]
  },
  {
   "cell_type": "code",
   "execution_count": 10,
   "id": "a29de4ad",
   "metadata": {},
   "outputs": [
    {
     "name": "stdout",
     "output_type": "stream",
     "text": [
      "GCD(4, 6) = 2\n",
      "Solution of the given congruence is: 2.0\n"
     ]
    }
   ],
   "source": [
    "#Program to solve the linear congruence 4 x congruent 2 (mod 6); \n",
    "#use module gcd() of sympy\n",
    "from sympy import *\n",
    "a=4\n",
    "b=2\n",
    "n=6\n",
    "g=gcd(a,n)\n",
    "print(f\"GCD{a,n} =\",g)\n",
    "if b%g != 0:\n",
    "    print(\"The congruence has no integer solution\")\n",
    "else:\n",
    "    if g==1:\n",
    "        print(\"The congruence has unique solution\")\n",
    "    for i in range(1,n-1):\n",
    "        x=(n*i+b)/a\n",
    "        if x//1==x:\n",
    "            x0=x//1\n",
    "            print(\"Solution of the given congruence is:\",x0)\n",
    "            break\n",
    "    else:\n",
    "        print(f\"The congruence has {g} solutions\")\n",
    "        for i in range(1,n-1):\n",
    "            x=(n*i+b)/a\n",
    "            if x//1==x:\n",
    "                x0=x//1\n",
    "                break\n",
    "        z=[]\n",
    "        for i in range(g):\n",
    "            x=(x0+i*(n//g))%n\n",
    "            z.append(int(x))\n",
    "        print(\"Solutions of the given congruence are:\",z)"
   ]
  },
  {
   "cell_type": "code",
   "execution_count": 8,
   "id": "637ead4d",
   "metadata": {},
   "outputs": [
    {
     "name": "stdout",
     "output_type": "stream",
     "text": [
      "GCD(4, 32) = 4\n",
      "Multiplicative inverse of 4 (mod 32) doesnot exist\n"
     ]
    }
   ],
   "source": [
    "#program to find multiplicative inverse of 4(mod 32)\n",
    "from sympy import *\n",
    "a=4\n",
    "b=1\n",
    "n=32\n",
    "g=gcd(a,n)\n",
    "print(f\"GCD{a,n} =\",g)\n",
    "if g != 1:\n",
    "    print(f\"Multiplicative inverse of {a} (mod {n}) doesnot exist\")\n",
    "else:\n",
    "    for i in range(1,n-1):\n",
    "        x=(n/a)*i+(b/a)\n",
    "        if x//1==x:\n",
    "            x0=x//1\n",
    "            print(f\"Multiplicative inverse of {a} (mod {n}) is: \",x0)\n",
    "            break"
   ]
  },
  {
   "cell_type": "code",
   "execution_count": null,
   "id": "05d6ac81",
   "metadata": {},
   "outputs": [],
   "source": []
  }
 ],
 "metadata": {
  "kernelspec": {
   "display_name": "Python 3 (ipykernel)",
   "language": "python",
   "name": "python3"
  },
  "language_info": {
   "codemirror_mode": {
    "name": "ipython",
    "version": 3
   },
   "file_extension": ".py",
   "mimetype": "text/x-python",
   "name": "python",
   "nbconvert_exporter": "python",
   "pygments_lexer": "ipython3",
   "version": "3.9.12"
  }
 },
 "nbformat": 4,
 "nbformat_minor": 5
}

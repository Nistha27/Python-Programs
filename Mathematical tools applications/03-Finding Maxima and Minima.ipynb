{
 "cells": [
  {
   "cell_type": "code",
   "execution_count": 9,
   "id": "eb88a24f",
   "metadata": {},
   "outputs": [
    {
     "name": "stdout",
     "output_type": "stream",
     "text": [
      "[0, -sqrt(2), sqrt(2)] [0, sqrt(2), -sqrt(2)]\n",
      "A= -4 B= 4 C= -4\n",
      "AC-B^2= 0\n",
      "At (0.00,0.00) Further investigation is required\n",
      "A= 20 B= 4 C= 20\n",
      "AC-B^2= 384\n",
      "(-1.41,1.41) is the minimum point\n",
      "A= 20 B= 4 C= 20\n",
      "AC-B^2= 384\n",
      "(1.41,-1.41) is the minimum point\n"
     ]
    }
   ],
   "source": [
    "# Maxima and Minima of function with 2 Variables \n",
    "#f(x, y) = x^4 + y^4 - 2x^2 − 2y^2 + 4xy.\n",
    "from sympy import *\n",
    "x,y=symbols('x,y')\n",
    "\n",
    "f=(x**4)+(y**4)-(2*x**2)+(4*x*y)-(2*y**2)\n",
    "fx = diff(f,x)\n",
    "fy = diff(f,y)\n",
    "\n",
    "points=solve([Eq(fx,0),Eq(fy,0)],[x,y])\n",
    "\n",
    "a1=[]\n",
    "b1=[]\n",
    "if type(points)!=list:\n",
    "    a1.append(points[x])\n",
    "    b1.append(points[y])\n",
    "    print(points)\n",
    "    print(a1,b1)\n",
    "else:\n",
    "    for i in range(len(points)):\n",
    "        (a,b)=points[i]\n",
    "        if im(a)==0 and im(b)==0:\n",
    "            a1.append(a)\n",
    "            b1.append(b)\n",
    "    print(a1,b1)\n",
    "    \n",
    "fxx=diff(fx,x)\n",
    "fxy=diff(fx,y)\n",
    "fyy=diff(fy,y)\n",
    "\n",
    "for i in range(len(a1)):\n",
    "    A=fxx.subs({x:a1[i],y:b1[i]})\n",
    "    B=fxy.subs({x:a1[i],y:b1[i]})\n",
    "    C=fyy.subs({x:a1[i],y:b1[i]})\n",
    "    print('A=',A,'B=',B,'C=',C)\n",
    " \n",
    "    delta=A*C-B**2\n",
    "    print(\"AC-B^2=\",delta)\n",
    " \n",
    "    if delta>0 and A>0:\n",
    "        print('(%0.2f,%0.2f)'%(a1[i],b1[i]),'is the minimum point')\n",
    "    elif delta>0 and A<0:\n",
    "        print('(%0.2f,%0.2f)'%(a1[i],b1[i]),'is the maximum point')\n",
    "    elif delta<0:\n",
    "        print('(%0.2f,%0.2f)'%(a1[i],b1[i]),'is the saddle point')\n",
    "    elif delta==0:\n",
    "        print(\"At (%0.2f,%0.2f)\"%(a1[i],b1[i]),'Further investigation is required')\n"
   ]
  },
  {
   "cell_type": "code",
   "execution_count": 10,
   "id": "f8352eeb",
   "metadata": {},
   "outputs": [
    {
     "name": "stdout",
     "output_type": "stream",
     "text": [
      "Number of terms you want: 5\n"
     ]
    },
    {
     "data": {
      "text/plain": [
       "\"Maclaurin's series is\""
      ]
     },
     "metadata": {},
     "output_type": "display_data"
    },
    {
     "data": {
      "text/latex": [
       "$\\displaystyle \\frac{x^{4}}{24} + \\frac{x^{3}}{6} + \\frac{x^{2}}{2} + x + 1$"
      ],
      "text/plain": [
       "x**4/24 + x**3/6 + x**2/2 + x + 1"
      ]
     },
     "metadata": {},
     "output_type": "display_data"
    },
    {
     "data": {
      "image/png": "[encoded data removed]",
      "text/plain": [
       "<Figure size 432x288 with 1 Axes>"
      ]
     },
     "metadata": {
      "needs_background": "light"
     },
     "output_type": "display_data"
    }
   ],
   "source": [
    "# Programs to find MacLaurin series of f(x)=exp(x)\n",
    "from sympy import *\n",
    "x=Symbol(\"x\")\n",
    "y=exp(x)\n",
    "ys=y.subs({x:0})\n",
    "n=int(input(\"Number of terms you want: \"))\n",
    "for i in range(1,n):\n",
    " ys+=x**i*diff(y,x,i).subs({x:0})/factorial(i)\n",
    "display(\"Maclaurin's series is\", ys)\n",
    "ys=lambdify(x,ys)\n",
    "from pylab import *\n",
    "x=arange(0,5,0.001)\n",
    "plot(x,exp(x),color=\"red\")\n",
    "plot(x,ys(x),color=\"green\")\n",
    "axvline()\n",
    "axhline()\n",
    "show()\n"
   ]
  },
  {
   "cell_type": "code",
   "execution_count": 11,
   "id": "e4df500c",
   "metadata": {},
   "outputs": [
    {
     "name": "stdout",
     "output_type": "stream",
     "text": [
      "Number of terms you want: 8\n"
     ]
    },
    {
     "data": {
      "text/latex": [
       "$\\displaystyle - \\frac{x^{7}}{5040} + \\frac{x^{5}}{120} - \\frac{x^{3}}{6} + x$"
      ],
      "text/plain": [
       "-x**7/5040 + x**5/120 - x**3/6 + x"
      ]
     },
     "metadata": {},
     "output_type": "display_data"
    },
    {
     "data": {
      "image/png": "[encoded data removed]",
      "text/plain": [
       "<Figure size 432x288 with 1 Axes>"
      ]
     },
     "metadata": {
      "needs_background": "light"
     },
     "output_type": "display_data"
    }
   ],
   "source": [
    "#Programs to find MacLaurin series of f(x)=sin(x)\n",
    "from sympy import *\n",
    "x=Symbol(\"x\")\n",
    "y=sin(x)\n",
    "ys=y.subs({x:0})\n",
    "n=int(input(\"Number of terms you want: \"))\n",
    "for i in range(1,n):\n",
    " ys+=x**i*diff(y,x,i).subs({x:0})/factorial(i)\n",
    "display(ys)\n",
    "ys=lambdify(x,ys)\n",
    "from pylab import *\n",
    "x=arange(-pi,pi,0.001)\n",
    "plot(x,sin(x),color=\"red\")\n",
    "plot(x,ys(x),color=\"green\")\n",
    "axvline()\n",
    "axhline()\n",
    "show()"
   ]
  },
  {
   "cell_type": "code",
   "execution_count": 12,
   "id": "001477f2",
   "metadata": {},
   "outputs": [
    {
     "data": {
      "text/latex": [
       "$\\displaystyle \\lim_{x \\to 0^+}\\left(\\frac{\\sin{\\left(x \\right)}}{x}\\right) = 1$"
      ],
      "text/plain": [
       "Eq(Limit(sin(x)/x, x, 0), 1)"
      ]
     },
     "metadata": {},
     "output_type": "display_data"
    }
   ],
   "source": [
    "#Program to find limit of the function sin(x) / x as x tends to 0\n",
    "from sympy import *\n",
    "x=Symbol(\"x\")\n",
    "f=sin(x)/x\n",
    "l=limit(f,x,0)\n",
    "display(Eq(Limit(f,x,0),l))"
   ]
  },
  {
   "cell_type": "code",
   "execution_count": 13,
   "id": "2db4bb79",
   "metadata": {},
   "outputs": [
    {
     "data": {
      "text/latex": [
       "$\\displaystyle \\lim_{x \\to \\infty} \\left(1 + \\frac{1}{x}\\right)^{x} = e$"
      ],
      "text/plain": [
       "Eq(Limit((1 + 1/x)**x, x, oo, dir='-'), E)"
      ]
     },
     "metadata": {},
     "output_type": "display_data"
    }
   ],
   "source": [
    "#Program to find limit of the function (1+1/x)^x as x tends to inf\n",
    "from sympy import *\n",
    "from math import *\n",
    "x=Symbol(\"x\")\n",
    "f=(1+1/x)**x\n",
    "l=limit(f,x,oo) # l=limit(f,x,-inf) also works\n",
    "display(Eq(Limit(f,x,oo),l))"
   ]
  }
 ],
 "metadata": {
  "kernelspec": {
   "display_name": "Python 3 (ipykernel)",
   "language": "python",
   "name": "python3"
  },
  "language_info": {
   "codemirror_mode": {
    "name": "ipython",
    "version": 3
   },
   "file_extension": ".py",
   "mimetype": "text/x-python",
   "name": "python",
   "nbconvert_exporter": "python",
   "pygments_lexer": "ipython3",
   "version": "3.9.12"
  }
 },
 "nbformat": 4,
 "nbformat_minor": 5
}

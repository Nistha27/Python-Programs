{
 "cells": [
  {
   "cell_type": "code",
   "execution_count": 2,
   "id": "c5bf1afa",
   "metadata": {
    "pycharm": {
     "name": "#%%\n"
    }
   },
   "outputs": [
    {
     "name": "stdout",
     "output_type": "stream",
     "text": [
      "('l', 3)\n",
      "('l', 3)\n"
     ]
    }
   ],
   "source": [
    "import collections\n",
    "s = \"helloworld\"\n",
    "print(collections.Counter(s).most_common(1)[0])\n",
    "\n",
    "\n",
    "d = collections.defaultdict(int)\n",
    "for c in s:\n",
    "    d[c] += 1\n",
    "print(sorted(d.items(), key=lambda x: x[1], reverse=True)[0])"
   ]
  },
  {
   "cell_type": "code",
   "execution_count": 3,
   "id": "6a87d2d7",
   "metadata": {
    "pycharm": {
     "name": "#%%\n"
    }
   },
   "outputs": [],
   "source": [
    "import collections"
   ]
  },
  {
   "cell_type": "code",
   "execution_count": 4,
   "id": "16945226",
   "metadata": {
    "pycharm": {
     "name": "#%%\n"
    }
   },
   "outputs": [],
   "source": [
    "s='abbccc'"
   ]
  },
  {
   "cell_type": "code",
   "execution_count": 6,
   "id": "6b3a2802",
   "metadata": {
    "pycharm": {
     "name": "#%%\n"
    }
   },
   "outputs": [
    {
     "name": "stdout",
     "output_type": "stream",
     "text": [
      "('c', 3)\n"
     ]
    }
   ],
   "source": [
    "print(collections.Counter(s).most_common(1)[0])"
   ]
  },
  {
   "cell_type": "code",
   "execution_count": 7,
   "id": "105bc82c",
   "metadata": {
    "pycharm": {
     "name": "#%%\n"
    }
   },
   "outputs": [
    {
     "ename": "SyntaxError",
     "evalue": "unexpected EOF while parsing (3214631134.py, line 5)",
     "output_type": "error",
     "traceback": [
      "\u001B[1;36m  Input \u001B[1;32mIn [7]\u001B[1;36m\u001B[0m\n\u001B[1;33m    \u001B[0m\n\u001B[1;37m    ^\u001B[0m\n\u001B[1;31mSyntaxError\u001B[0m\u001B[1;31m:\u001B[0m unexpected EOF while parsing\n"
     ]
    }
   ],
   "source": [
    "d= collections.defaultdict(int)\n",
    "for i in s:\n",
    "    d[i] +=1\n",
    "print(sorted(d.items(), key=lambda x: x)\n",
    "    "
   ]
  },
  {
   "cell_type": "code",
   "execution_count": 8,
   "id": "8eac589d",
   "metadata": {
    "pycharm": {
     "name": "#%%\n"
    }
   },
   "outputs": [
    {
     "ename": "AttributeError",
     "evalue": "'dict' object has no attribute 'iteritems'",
     "output_type": "error",
     "traceback": [
      "\u001B[1;31m---------------------------------------------------------------------------\u001B[0m",
      "\u001B[1;31mAttributeError\u001B[0m                            Traceback (most recent call last)",
      "Input \u001B[1;32mIn [8]\u001B[0m, in \u001B[0;36m<cell line: 18>\u001B[1;34m()\u001B[0m\n\u001B[0;32m     14\u001B[0m             ret[k] \u001B[38;5;241m=\u001B[39m v\n\u001B[0;32m     16\u001B[0m     \u001B[38;5;28;01mreturn\u001B[39;00m ret\n\u001B[1;32m---> 18\u001B[0m \u001B[43mmost_repeated_letters\u001B[49m\u001B[43m(\u001B[49m\u001B[38;5;124;43m'\u001B[39;49m\u001B[38;5;124;43mjackaby\u001B[39;49m\u001B[38;5;124;43m'\u001B[39;49m\u001B[43m)\u001B[49m\n",
      "Input \u001B[1;32mIn [8]\u001B[0m, in \u001B[0;36mmost_repeated_letters\u001B[1;34m(word_1)\u001B[0m\n\u001B[0;32m      8\u001B[0m     d[letter] \u001B[38;5;241m=\u001B[39m d\u001B[38;5;241m.\u001B[39mget(letter) \u001B[38;5;241m+\u001B[39m \u001B[38;5;241m1\u001B[39m\n\u001B[0;32m     10\u001B[0m ret \u001B[38;5;241m=\u001B[39m {}\n\u001B[1;32m---> 12\u001B[0m \u001B[38;5;28;01mfor\u001B[39;00m k,v \u001B[38;5;129;01min\u001B[39;00m \u001B[43md\u001B[49m\u001B[38;5;241;43m.\u001B[39;49m\u001B[43miteritems\u001B[49m():\n\u001B[0;32m     13\u001B[0m     \u001B[38;5;28;01mif\u001B[39;00m d[k] \u001B[38;5;241m==\u001B[39m \u001B[38;5;28mmax\u001B[39m(d\u001B[38;5;241m.\u001B[39mvalues()):\n\u001B[0;32m     14\u001B[0m         ret[k] \u001B[38;5;241m=\u001B[39m v\n",
      "\u001B[1;31mAttributeError\u001B[0m: 'dict' object has no attribute 'iteritems'"
     ]
    }
   ],
   "source": [
    "def most_repeated_letters(word_1):\n",
    "\n",
    "    d = {}\n",
    "\n",
    "    for letter in word_1:      \n",
    "        if not d.get(letter):\n",
    "            d[letter] = 0\n",
    "        d[letter] = d.get(letter) + 1\n",
    "\n",
    "    ret = {}\n",
    "\n",
    "    for k,v in d.iteritems():\n",
    "        if d[k] == max(d.values()):\n",
    "            ret[k] = v\n",
    "\n",
    "    return ret\n",
    "\n",
    "most_repeated_letters('jackaby')"
   ]
  },
  {
   "cell_type": "code",
   "execution_count": null,
   "id": "fff8d565",
   "metadata": {
    "pycharm": {
     "name": "#%%\n"
    }
   },
   "outputs": [],
   "source": []
  }
 ],
 "metadata": {
  "kernelspec": {
   "display_name": "Python 3 (ipykernel)",
   "language": "python",
   "name": "python3"
  },
  "language_info": {
   "codemirror_mode": {
    "name": "ipython",
    "version": 3
   },
   "file_extension": ".py",
   "mimetype": "text/x-python",
   "name": "python",
   "nbconvert_exporter": "python",
   "pygments_lexer": "ipython3",
   "version": "3.9.12"
  }
 },
 "nbformat": 4,
 "nbformat_minor": 5
}
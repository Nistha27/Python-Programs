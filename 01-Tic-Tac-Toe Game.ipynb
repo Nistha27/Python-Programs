{
 "cells": [
  {
   "cell_type": "code",
   "execution_count": 1,
   "id": "09556f5e",
   "metadata": {},
   "outputs": [],
   "source": [
    "from IPython.display import clear_output"
   ]
  },
  {
   "cell_type": "code",
   "execution_count": 2,
   "id": "3463853b",
   "metadata": {},
   "outputs": [],
   "source": [
    "def display_board(board): \n",
    "    print (board[7]+ '|' + board[8]+ '|'+ board[9])\n",
    "    print (board[4]+ '|' + board[5]+ '|'+ board[6])\n",
    "    print (board[1]+ '|' + board[2]+ '|'+ board[3])"
   ]
  },
  {
   "cell_type": "code",
   "execution_count": 3,
   "id": "97da6e47",
   "metadata": {},
   "outputs": [],
   "source": [
    "def player_input():\n",
    "    marker=' '\n",
    "    while marker not in ['X','O']:\n",
    "        marker=input(\"Player 1 : Enter your marker X or O: \").upper()\n",
    "        \n",
    "        if marker=='X':\n",
    "            return('X','O')\n",
    "        if marker=='O':\n",
    "            return('O','X')  "
   ]
  },
  {
   "cell_type": "code",
   "execution_count": 4,
   "id": "ca2ef109",
   "metadata": {},
   "outputs": [],
   "source": [
    "def place_marker(board, marker,position):\n",
    "    board[position] = marker"
   ]
  },
  {
   "cell_type": "code",
   "execution_count": 5,
   "id": "dc8879dc",
   "metadata": {},
   "outputs": [],
   "source": [
    "def win_check(board,mark):\n",
    "    return((board[1]==mark and board[2]==mark and board[3]==mark)or\n",
    "          (board[4]==mark and board[5]==mark and board[6]==mark)or\n",
    "          (board[7]==mark and board[8]==mark and board[9]==mark)or\n",
    "          (board[1]==mark and board[4]==mark and board[7]==mark)or\n",
    "          (board[2]==mark and board[5]==mark and board[8]==mark)or\n",
    "          (board[3]==mark and board[6]==mark and board[9]==mark)or\n",
    "          (board[1]==mark and board[5]==mark and board[9]==mark)or\n",
    "          (board[3]==mark and board[5]==mark and board[7]==mark))"
   ]
  },
  {
   "cell_type": "code",
   "execution_count": 6,
   "id": "31e72be1",
   "metadata": {},
   "outputs": [],
   "source": [
    "import random"
   ]
  },
  {
   "cell_type": "code",
   "execution_count": 7,
   "id": "8ea026ba",
   "metadata": {},
   "outputs": [],
   "source": [
    "def choose_first():\n",
    "    flip=random.randint(0,1)\n",
    "    if flip==0:\n",
    "        return 'Player 1 first '\n",
    "    else:\n",
    "        return 'Player 2 first'"
   ]
  },
  {
   "cell_type": "code",
   "execution_count": 8,
   "id": "d89a9cb0",
   "metadata": {},
   "outputs": [],
   "source": [
    "def space_check(board,position):\n",
    "    return(board[position]==' ')"
   ]
  },
  {
   "cell_type": "code",
   "execution_count": 9,
   "id": "f35d54ea",
   "metadata": {},
   "outputs": [],
   "source": [
    "def full_board_check(board):\n",
    "    for i in range(1,10):\n",
    "        if space_check(board,i):\n",
    "            return False\n",
    "    return(True)"
   ]
  },
  {
   "cell_type": "code",
   "execution_count": 10,
   "id": "4d0f71b0",
   "metadata": {},
   "outputs": [],
   "source": [
    "def player_choice(board):\n",
    "    position=0\n",
    "    while position not in range(1,10) or not space_check(board,position):\n",
    "        position=int(input(\"Choose a position (1 to 9)\"))\n",
    "    return(position)"
   ]
  },
  {
   "cell_type": "code",
   "execution_count": 11,
   "id": "1489018b",
   "metadata": {},
   "outputs": [],
   "source": [
    "def replay():\n",
    "    \n",
    "    return input('Do you want to play again? Enter Yes or No: ').lower().startswith('y')"
   ]
  },
  {
   "cell_type": "code",
   "execution_count": null,
   "id": "aa180e7b",
   "metadata": {},
   "outputs": [
    {
     "name": "stdout",
     "output_type": "stream",
     "text": [
      "WELCOME TO TIC TAC TOE \n",
      "Player 1 : Enter your marker X or O: o\n",
      "Player 2 first will go first \n",
      "Are you ready to play? Enter Yes or No.yes\n",
      " | | \n",
      " | | \n",
      " | | \n",
      "Choose a position (1 to 9)8\n",
      " |X| \n",
      " | | \n",
      " | | \n",
      "Choose a position (1 to 9)2\n",
      " |X| \n",
      " | | \n",
      " |O| \n",
      "Choose a position (1 to 9)4\n",
      " |X| \n",
      "X| | \n",
      " |O| \n",
      "Choose a position (1 to 9)6\n",
      " |X| \n",
      "X| |O\n",
      " |O| \n",
      "Choose a position (1 to 9)5\n",
      " |X| \n",
      "X|X|O\n",
      " |O| \n",
      "Choose a position (1 to 9)9\n",
      " |X|O\n",
      "X|X|O\n",
      " |O| \n",
      "Choose a position (1 to 9)3\n",
      " |X|O\n",
      "X|X|O\n",
      " |O|X\n",
      "Choose a position (1 to 9)1\n",
      " |X|O\n",
      "X|X|O\n",
      "O|O|X\n",
      "Choose a position (1 to 9)7\n",
      "X|X|O\n",
      "X|X|O\n",
      "O|O|X\n",
      "PLAYER 2 WON\n"
     ]
    }
   ],
   "source": [
    "print('WELCOME TO TIC TAC TOE ')\n",
    "\n",
    "while True:\n",
    "    the_board=[' ']*10\n",
    "    \n",
    "    player1_marker,player2_marker = player_input()\n",
    "    \n",
    "    turn = choose_first()\n",
    "    print(turn + ' will go first ')\n",
    "    \n",
    "    play_game = input('Are you ready to play? Enter Yes or No.')\n",
    "    \n",
    "    if play_game.lower()[0] == 'y':\n",
    "        game_on = True\n",
    "    else:\n",
    "        game_on = False\n",
    "        \n",
    "    while game_on:\n",
    "        if turn =='Player 1 ':\n",
    "            \n",
    "            \n",
    "            display_board(the_board)\n",
    "            position=player_choice(the_board)\n",
    "            place_marker(the_board, player1_marker, position)\n",
    "            \n",
    "            if win_check(the_board,player1_marker):\n",
    "                display_board(the_board)\n",
    "                print('PLAYER 1 WON')\n",
    "                game_on=False\n",
    "            else:\n",
    "                if full_board_check(the_board):\n",
    "                    display_board(the_board)\n",
    "                    print(' IT IS A TIE ')\n",
    "                else:\n",
    "                    turn ='Player 2 '\n",
    "        \n",
    "        else:\n",
    "            \n",
    "            display_board(the_board)\n",
    "            position = player_choice(the_board)\n",
    "            place_marker(the_board, player2_marker, position)\n",
    "            \n",
    "            if win_check(the_board,player2_marker):\n",
    "                display_board(the_board)\n",
    "                print('PLAYER 2 WON')\n",
    "                game_on=False\n",
    "            else:\n",
    "                if full_board_check(the_board):\n",
    "                    display_board(the_board)\n",
    "                    print(' IT IS A TIE ')\n",
    "                else:\n",
    "                    turn ='Player 1 '\n",
    "        \n",
    "    if not replay():\n",
    "        break"
   ]
  }
 ],
 "metadata": {
  "kernelspec": {
   "display_name": "Python 3 (ipykernel)",
   "language": "python",
   "name": "python3"
  },
  "language_info": {
   "codemirror_mode": {
    "name": "ipython",
    "version": 3
   },
   "file_extension": ".py",
   "mimetype": "text/x-python",
   "name": "python",
   "nbconvert_exporter": "python",
   "pygments_lexer": "ipython3",
   "version": "3.9.12"
  }
 },
 "nbformat": 4,
 "nbformat_minor": 5
}
